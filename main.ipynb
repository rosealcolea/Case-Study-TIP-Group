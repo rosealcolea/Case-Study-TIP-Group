{
 "cells": [
  {
   "cell_type": "markdown",
   "id": "632cc74d",
   "metadata": {},
   "source": [
    "# Case Study"
   ]
  },
  {
   "cell_type": "markdown",
   "id": "40a00d11",
   "metadata": {},
   "source": [
    "Following the ETL, we're going to load each data source onto a data frame, clean it by checking for spelling mistakes, null values and errors, merge them all into one, and export the final master file."
   ]
  },
  {
   "cell_type": "code",
   "execution_count": 1,
   "id": "85699b41",
   "metadata": {},
   "outputs": [],
   "source": [
    "# importing libraries\n",
    "import pandas as pd\n",
    "import json\n",
    "import requests"
   ]
  },
  {
   "cell_type": "markdown",
   "id": "75bf219f",
   "metadata": {},
   "source": [
    "### Sales Transactions"
   ]
  },
  {
   "cell_type": "code",
   "execution_count": 2,
   "id": "6465e9dc",
   "metadata": {},
   "outputs": [],
   "source": [
    "# opening the sales csv file and exploring it\n",
    "sales = pd.read_csv('SalesTransactions.csv')"
   ]
  },
  {
   "cell_type": "markdown",
   "id": "d8b534a5",
   "metadata": {},
   "source": [
    "#### Data Cleaning: Null values and data types"
   ]
  },
  {
   "cell_type": "code",
   "execution_count": 3,
   "id": "ae99d26e",
   "metadata": {
    "scrolled": false
   },
   "outputs": [
    {
     "name": "stdout",
     "output_type": "stream",
     "text": [
      "<class 'pandas.core.frame.DataFrame'>\n",
      "RangeIndex: 1000 entries, 0 to 999\n",
      "Data columns (total 9 columns):\n",
      " #   Column      Non-Null Count  Dtype  \n",
      "---  ------      --------------  -----  \n",
      " 0   Source      1000 non-null   object \n",
      " 1   BranchId    1000 non-null   int64  \n",
      " 2   CustomerId  1000 non-null   int64  \n",
      " 3   UnItNr      1000 non-null   int64  \n",
      " 4   CreateDate  1000 non-null   object \n",
      " 5   UpdateDate  329 non-null    object \n",
      " 6   UserId      1000 non-null   object \n",
      " 7   UserFied    1000 non-null   object \n",
      " 8   Amount      1000 non-null   float64\n",
      "dtypes: float64(1), int64(3), object(5)\n",
      "memory usage: 70.4+ KB\n"
     ]
    }
   ],
   "source": [
    "sales.info()"
   ]
  },
  {
   "cell_type": "markdown",
   "id": "b2a6a78d",
   "metadata": {},
   "source": [
    "\n",
    ">**Observations:** No empty rows except for the `UpdateDate` column, which makes sense since not all transactions have to be updated. \n",
    "I also notice that the data type for the datetime columns is object instead of datetime. I will change that so we can sort rows by date."
   ]
  },
  {
   "cell_type": "code",
   "execution_count": 4,
   "id": "665ec073",
   "metadata": {},
   "outputs": [],
   "source": [
    "#changing dtype to datetime\n",
    "sales['CreateDate'] = pd.to_datetime(sales['CreateDate'])\n",
    "sales['UpdateDate'] = pd.to_datetime(sales['UpdateDate'])"
   ]
  },
  {
   "cell_type": "markdown",
   "id": "b179d82a",
   "metadata": {},
   "source": [
    "#### Data Transformation: UserFields column\n",
    "\n",
    "From the information received from the IT department, I also know that the column `UserField` is entered manually, so it's going to have many different unique values that mean the same thing and should be unified. I'm going to investigate and resolve this issue now:"
   ]
  },
  {
   "cell_type": "code",
   "execution_count": 5,
   "id": "5a781628",
   "metadata": {},
   "outputs": [
    {
     "data": {
      "text/plain": [
       "array(['3pm', 'Product: STR', 'Product: 3PC', '3PC', 'LTL',\n",
       "       'Lont Term Lease', 'SHORT TERM RENTAL', 'ltl', 'STR',\n",
       "       'Third   Party Contract', 'Third Party Contract',\n",
       "       'ShortTermRental', 'LontTermLease', 'Product: LTL', 'str',\n",
       "       'Short Term   Rental', 'Lont Term   Lease', 'lont term lease',\n",
       "       'ThirdPartyContract', 'Short Term Rental               ',\n",
       "       'Third Party Contract                     ',\n",
       "       'THIRD PARTY CONTRACT', 'Short Term Rental', 'short term rental',\n",
       "       'third party contract', 'LONT TERM LEASE',\n",
       "       'Lont Term Lease                   '], dtype=object)"
      ]
     },
     "execution_count": 5,
     "metadata": {},
     "output_type": "execute_result"
    }
   ],
   "source": [
    "# correcting a typo\n",
    "sales = sales.rename(columns={'UserFied': 'UserField'})\n",
    "\n",
    "# checking for unique values\n",
    "sales['UserField'].unique()"
   ]
  },
  {
   "cell_type": "markdown",
   "id": "5d6dcd61",
   "metadata": {},
   "source": [
    "> **Observations:** I can see many different ways of indicating just a few values: long term lease, short term rental, and third party contract.\n",
    "\n",
    "I need to create a data transformation step that will transform those values into their common form."
   ]
  },
  {
   "cell_type": "code",
   "execution_count": 6,
   "id": "7795ee46",
   "metadata": {},
   "outputs": [
    {
     "data": {
      "text/plain": [
       "array(['third party contract', 'short term rental', 'long term lease'],\n",
       "      dtype=object)"
      ]
     },
     "execution_count": 6,
     "metadata": {},
     "output_type": "execute_result"
    }
   ],
   "source": [
    "# defining the list of strings to transform\n",
    "long_term_lease = ['LTL', 'Lont Term Lease', 'ltl', 'LontTermLease', 'Product: LTL',\n",
    "                        'Lont Term   Lease', 'lont term lease', 'LONT TERM LEASE', \n",
    "                        'Lont Term Lease                   ']\n",
    "short_term_rental = ['Product: STR', 'SHORT TERM RENTAL', 'STR', 'ShortTermRental',\n",
    "                        'str', 'Short Term   Rental', 'Short Term Rental               ', \n",
    "                        'Short Term Rental','short term rental']\n",
    "third_party_contract = ['3pm', 'Product: 3PC', '3PC', 'Third   Party Contract', 'Third Party Contract', \n",
    "                        'ThirdPartyContract', 'Third Party Contract                     ', \n",
    "                        'THIRD PARTY CONTRACT', 'third party contract']\n",
    "\n",
    "# replacing the values\n",
    "sales['UserField'] = sales['UserField'].replace(long_term_lease, 'long term lease')\n",
    "sales['UserField'] = sales['UserField'].replace(short_term_rental, 'short term rental')\n",
    "sales['UserField'] = sales['UserField'].replace(third_party_contract, 'third party contract')\n",
    "\n",
    "# checking for unique values again\n",
    "sales['UserField'].unique()"
   ]
  },
  {
   "cell_type": "markdown",
   "id": "1d56632f",
   "metadata": {},
   "source": [
    "**Note:** I decided to go with the replace method because it best suits our goal of transforming this dataset into a report. However, if we were to need to make this is an automated pipeline, we could create a more complex transformation script that would identify which of the three categories it is, ignoring case, empty spaces, spelling mistakes, etc. Forexample, we could use functions such as `lower()`, `fuzzywuzzy`,  `textdistance`, `match_string()`, and others."
   ]
  },
  {
   "cell_type": "markdown",
   "id": "7f45b2c8",
   "metadata": {},
   "source": [
    "I also noticed the column `Source` had some repeated values with different spelling that should be unified."
   ]
  },
  {
   "cell_type": "code",
   "execution_count": 7,
   "id": "0a400b43",
   "metadata": {},
   "outputs": [
    {
     "data": {
      "text/plain": [
       "array(['ASSET APPLICATION', 'External Vendor', 'Ext. Vendor',\n",
       "       'Asset Application', 'INV_5001', 'INV_5002', 'INV_5003',\n",
       "       'INV_5004', 'INV_5005', 'INV_5006', 'INV_5007', 'INV_5008',\n",
       "       'INV_5009', 'INV_5010', 'INV_5011', 'INV_5012', 'INV_5013',\n",
       "       'INV_5014', 'INV_5015', 'INV_5016', 'INV_5017', 'INV_5018',\n",
       "       'INV_5019', 'INV_5020', 'INV_5021', 'INV_5022', 'INV_5023',\n",
       "       'INV_5024', 'INV_5025', 'INV_5026', 'INV_5027', 'INV_5028',\n",
       "       'INV_5029', 'INV_5030', 'INV_5031', 'INV_5032', 'INV_5033',\n",
       "       'INV_5034', 'INV_5035', 'INV_5036', 'INV_5037', 'INV_5038',\n",
       "       'INV_5039', 'INV_5040', 'INV_5041', 'INV_5042', 'INV_5043',\n",
       "       'INV_5044', 'INV_5045', 'INV_5046', 'INV_5047', 'INV_5048',\n",
       "       'INV_5049', 'INV_5050', 'INV_5051', 'INV_5052', 'INV_5053',\n",
       "       'INV_5054', 'INV_5055', 'INV_5056', 'INV_5057', 'INV_5058',\n",
       "       'INV_5059', 'INV_5060', 'INV_5061', 'INV_5062', 'INV_5063',\n",
       "       'INV_5064', 'INV_5065', 'INV_5066', 'INV_5067', 'INV_5068',\n",
       "       'INV_5069', 'INV_5070', 'INV_5071', 'INV_5072', 'INV_5073',\n",
       "       'INV_5074', 'INV_5075', 'INV_5076', 'INV_5077', 'INV_5078',\n",
       "       'INV_5079', 'INV_5080', 'INV_5081', 'INV_5082', 'INV_5083',\n",
       "       'INV_5084', 'INV_5085', 'INV_5086', 'INV_5087', 'INV_5088',\n",
       "       'INV_5089', 'INV_5090', 'INV_5091', 'INV_5092', 'INV_5093',\n",
       "       'INV_5094', 'INV_5095', 'INV_5096', 'INV_5097', 'INV_5098',\n",
       "       'INV_5099', 'INV_5100', 'INV_5101', 'INV_5102', 'INV_5103',\n",
       "       'INV_5104', 'INV_5105', 'INV_5106', 'INV_5107', 'INV_5108',\n",
       "       'INV_5109', 'INV_5110', 'INV_5111', 'INV_5112', 'INV_5113',\n",
       "       'INV_5114', 'INV_5115', 'INV_5116', 'INV_5117', 'INV_5118',\n",
       "       'INV_5119', 'INV_5120', 'INV_5121', 'INV_5122', 'INV_5123',\n",
       "       'INV_5124', 'INV_5125', 'INV_5126', 'INV_5127', 'INV_5128',\n",
       "       'INV_5129', 'INV_5130', 'INV_5131', 'INV_5132', 'INV_5133',\n",
       "       'INV_5134', 'INV_5135', 'INV_5136', 'INV_5137', 'INV_5138',\n",
       "       'INV_5139', 'INV_5140', 'INV_5141', 'INV_5142', 'INV_5143',\n",
       "       'INV_5144', 'INV_5145', 'INV_5146', 'INV_5147', 'INV_5148',\n",
       "       'INV_5149', 'INV_5150', 'INV_5151', 'INV_5152', 'INV_5153',\n",
       "       'INV_5154', 'INV_5155', 'INV_5156', 'INV_5157', 'INV_5158',\n",
       "       'INV_5159', 'INV_5160', 'INV_5161', 'INV_5162', 'INV_5163',\n",
       "       'INV_5164', 'INV_5165', 'INV_5166', 'INV_5167', 'INV_5168',\n",
       "       'INV_5169', 'INV_5170', 'INV_5171', 'INV_5172', 'INV_5173',\n",
       "       'INV_5174', 'INV_5175', 'INV_5176', 'INV_5177', 'INV_5178',\n",
       "       'INV_5179', 'INV_5180', 'INV_5181', 'INV_5182', 'INV_5183',\n",
       "       'INV_5184', 'INV_5185', 'INV_5186', 'INV_5187', 'INV_5188',\n",
       "       'INV_5189', 'INV_5190', 'INV_5191', 'INV_5192', 'INV_5193',\n",
       "       'INV_5194', 'INV_5195', 'INV_5196', 'INV_5197', 'INV_5198'],\n",
       "      dtype=object)"
      ]
     },
     "execution_count": 7,
     "metadata": {},
     "output_type": "execute_result"
    }
   ],
   "source": [
    "sales['Source'].unique()"
   ]
  },
  {
   "cell_type": "code",
   "execution_count": 8,
   "id": "fcf85aaf",
   "metadata": {},
   "outputs": [],
   "source": [
    "sales['Source'] = sales['Source'].replace('ASSET APPLICATION', 'Asset Application')\n",
    "sales['Source'] = sales['Source'].replace('Ext. Vendor', 'External Vendor')"
   ]
  },
  {
   "cell_type": "markdown",
   "id": "099aaeb1",
   "metadata": {},
   "source": [
    "### Customers"
   ]
  },
  {
   "cell_type": "code",
   "execution_count": 9,
   "id": "e99e5b27",
   "metadata": {},
   "outputs": [],
   "source": [
    "# opening the sales csv file and exploring it\n",
    "customers = pd.read_json(open('Customers.json'))"
   ]
  },
  {
   "cell_type": "markdown",
   "id": "08dbdddd",
   "metadata": {},
   "source": [
    "#### Data Cleaning: Null values and data types\n"
   ]
  },
  {
   "cell_type": "code",
   "execution_count": 10,
   "id": "40897067",
   "metadata": {},
   "outputs": [
    {
     "name": "stdout",
     "output_type": "stream",
     "text": [
      "<class 'pandas.core.frame.DataFrame'>\n",
      "RangeIndex: 9 entries, 0 to 8\n",
      "Data columns (total 3 columns):\n",
      " #   Column          Non-Null Count  Dtype  \n",
      "---  ------          --------------  -----  \n",
      " 0   CustomerId      9 non-null      int64  \n",
      " 1   CustomerName    9 non-null      object \n",
      " 2   CustomerParent  8 non-null      float64\n",
      "dtypes: float64(1), int64(1), object(1)\n",
      "memory usage: 344.0+ bytes\n"
     ]
    }
   ],
   "source": [
    "customers.info()"
   ]
  },
  {
   "cell_type": "code",
   "execution_count": 11,
   "id": "718be3b2",
   "metadata": {},
   "outputs": [
    {
     "data": {
      "text/html": [
       "<div>\n",
       "<style scoped>\n",
       "    .dataframe tbody tr th:only-of-type {\n",
       "        vertical-align: middle;\n",
       "    }\n",
       "\n",
       "    .dataframe tbody tr th {\n",
       "        vertical-align: top;\n",
       "    }\n",
       "\n",
       "    .dataframe thead th {\n",
       "        text-align: right;\n",
       "    }\n",
       "</style>\n",
       "<table border=\"1\" class=\"dataframe\">\n",
       "  <thead>\n",
       "    <tr style=\"text-align: right;\">\n",
       "      <th></th>\n",
       "      <th>CustomerId</th>\n",
       "      <th>CustomerName</th>\n",
       "      <th>CustomerParent</th>\n",
       "    </tr>\n",
       "  </thead>\n",
       "  <tbody>\n",
       "    <tr>\n",
       "      <th>0</th>\n",
       "      <td>1</td>\n",
       "      <td>DHL</td>\n",
       "      <td>NaN</td>\n",
       "    </tr>\n",
       "    <tr>\n",
       "      <th>1</th>\n",
       "      <td>2</td>\n",
       "      <td>DHL-Post</td>\n",
       "      <td>1.0</td>\n",
       "    </tr>\n",
       "    <tr>\n",
       "      <th>2</th>\n",
       "      <td>3</td>\n",
       "      <td>DHL International GmbH</td>\n",
       "      <td>1.0</td>\n",
       "    </tr>\n",
       "    <tr>\n",
       "      <th>3</th>\n",
       "      <td>4</td>\n",
       "      <td>FedEx</td>\n",
       "      <td>4.0</td>\n",
       "    </tr>\n",
       "    <tr>\n",
       "      <th>4</th>\n",
       "      <td>5</td>\n",
       "      <td>fedex</td>\n",
       "      <td>4.0</td>\n",
       "    </tr>\n",
       "    <tr>\n",
       "      <th>5</th>\n",
       "      <td>6</td>\n",
       "      <td>FEDEX</td>\n",
       "      <td>4.0</td>\n",
       "    </tr>\n",
       "    <tr>\n",
       "      <th>6</th>\n",
       "      <td>7</td>\n",
       "      <td>Amazon</td>\n",
       "      <td>8.0</td>\n",
       "    </tr>\n",
       "    <tr>\n",
       "      <th>7</th>\n",
       "      <td>8</td>\n",
       "      <td>Amazon Logistics</td>\n",
       "      <td>7.0</td>\n",
       "    </tr>\n",
       "    <tr>\n",
       "      <th>8</th>\n",
       "      <td>9</td>\n",
       "      <td>Amazon Dilivery</td>\n",
       "      <td>8.0</td>\n",
       "    </tr>\n",
       "  </tbody>\n",
       "</table>\n",
       "</div>"
      ],
      "text/plain": [
       "   CustomerId             CustomerName  CustomerParent\n",
       "0           1                      DHL             NaN\n",
       "1           2                 DHL-Post             1.0\n",
       "2           3  DHL International GmbH              1.0\n",
       "3           4                    FedEx             4.0\n",
       "4           5                    fedex             4.0\n",
       "5           6                    FEDEX             4.0\n",
       "6           7                   Amazon             8.0\n",
       "7           8         Amazon Logistics             7.0\n",
       "8           9          Amazon Dilivery             8.0"
      ]
     },
     "execution_count": 11,
     "metadata": {},
     "output_type": "execute_result"
    }
   ],
   "source": [
    "customers"
   ]
  },
  {
   "cell_type": "markdown",
   "id": "48eeb86c",
   "metadata": {},
   "source": [
    ">**Observations:** I notice that there seem there seem to be 3 main customers. It could be that DHL and DHL International are different clients, hence the need for the `CustomerParent` column. However I can also see several typos, which leads me to think it's manually entered and they are simply different names for the same customer. Additionally, the parent number for Amazon calls back to itself in an incoherent loop. But if there are only 3 customers I don't understand the need for the `CustomerParent` column, other than to converge the different spellings into one customer (except there's also a mistake here in Amazon's case).\n",
    "\n",
    "I'm going to check how the sales table refers to the customer IDs to see if they're all in use."
   ]
  },
  {
   "cell_type": "code",
   "execution_count": 12,
   "id": "23f9a8b7",
   "metadata": {},
   "outputs": [
    {
     "data": {
      "text/plain": [
       "array([6, 7, 4, 9, 8, 2, 1, 3, 5], dtype=int64)"
      ]
     },
     "execution_count": 12,
     "metadata": {},
     "output_type": "execute_result"
    }
   ],
   "source": [
    "sales['CustomerId'].unique()"
   ]
  },
  {
   "cell_type": "markdown",
   "id": "c8ac05de",
   "metadata": {},
   "source": [
    "Since they're all needed I'm only going to correct the typos and the `CustomerParent` issues, and change the data type of the `CustomerParent` to integer to better match the `CustomerId` column it's refering to."
   ]
  },
  {
   "cell_type": "code",
   "execution_count": 13,
   "id": "ef737986",
   "metadata": {},
   "outputs": [
    {
     "data": {
      "text/html": [
       "<div>\n",
       "<style scoped>\n",
       "    .dataframe tbody tr th:only-of-type {\n",
       "        vertical-align: middle;\n",
       "    }\n",
       "\n",
       "    .dataframe tbody tr th {\n",
       "        vertical-align: top;\n",
       "    }\n",
       "\n",
       "    .dataframe thead th {\n",
       "        text-align: right;\n",
       "    }\n",
       "</style>\n",
       "<table border=\"1\" class=\"dataframe\">\n",
       "  <thead>\n",
       "    <tr style=\"text-align: right;\">\n",
       "      <th></th>\n",
       "      <th>CustomerId</th>\n",
       "      <th>CustomerName</th>\n",
       "      <th>CustomerParent</th>\n",
       "    </tr>\n",
       "  </thead>\n",
       "  <tbody>\n",
       "    <tr>\n",
       "      <th>0</th>\n",
       "      <td>1</td>\n",
       "      <td>DHL</td>\n",
       "      <td>1</td>\n",
       "    </tr>\n",
       "    <tr>\n",
       "      <th>1</th>\n",
       "      <td>2</td>\n",
       "      <td>DHL-Post</td>\n",
       "      <td>1</td>\n",
       "    </tr>\n",
       "    <tr>\n",
       "      <th>2</th>\n",
       "      <td>3</td>\n",
       "      <td>DHL International GmbH</td>\n",
       "      <td>1</td>\n",
       "    </tr>\n",
       "    <tr>\n",
       "      <th>3</th>\n",
       "      <td>4</td>\n",
       "      <td>FedEx</td>\n",
       "      <td>4</td>\n",
       "    </tr>\n",
       "    <tr>\n",
       "      <th>4</th>\n",
       "      <td>5</td>\n",
       "      <td>fedex</td>\n",
       "      <td>4</td>\n",
       "    </tr>\n",
       "    <tr>\n",
       "      <th>5</th>\n",
       "      <td>6</td>\n",
       "      <td>FEDEX</td>\n",
       "      <td>4</td>\n",
       "    </tr>\n",
       "    <tr>\n",
       "      <th>6</th>\n",
       "      <td>7</td>\n",
       "      <td>Amazon</td>\n",
       "      <td>8</td>\n",
       "    </tr>\n",
       "    <tr>\n",
       "      <th>7</th>\n",
       "      <td>8</td>\n",
       "      <td>Amazon Logistics</td>\n",
       "      <td>8</td>\n",
       "    </tr>\n",
       "    <tr>\n",
       "      <th>8</th>\n",
       "      <td>9</td>\n",
       "      <td>Amazon Delivery</td>\n",
       "      <td>8</td>\n",
       "    </tr>\n",
       "  </tbody>\n",
       "</table>\n",
       "</div>"
      ],
      "text/plain": [
       "   CustomerId             CustomerName  CustomerParent\n",
       "0           1                      DHL               1\n",
       "1           2                 DHL-Post               1\n",
       "2           3  DHL International GmbH                1\n",
       "3           4                    FedEx               4\n",
       "4           5                    fedex               4\n",
       "5           6                    FEDEX               4\n",
       "6           7                   Amazon               8\n",
       "7           8         Amazon Logistics               8\n",
       "8           9          Amazon Delivery               8"
      ]
     },
     "execution_count": 13,
     "metadata": {},
     "output_type": "execute_result"
    }
   ],
   "source": [
    "# Correcting typo\n",
    "customers['CustomerName'] = customers['CustomerName'].replace('Amazon Dilivery', 'Amazon Delivery')\n",
    "\n",
    "# Filling in null value\n",
    "customers.iloc[0, 2] = 1.0\n",
    "\n",
    "# Correcting Parent issue\n",
    "customers.iloc[7, 2] = 8.0\n",
    "\n",
    "# Changing data type\n",
    "customers['CustomerParent'] = customers['CustomerParent'].astype(int)\n",
    "customers"
   ]
  },
  {
   "cell_type": "markdown",
   "id": "4a63fd46",
   "metadata": {},
   "source": [
    "Creating a hierarchy table of the customer data:"
   ]
  },
  {
   "cell_type": "code",
   "execution_count": 14,
   "id": "84999f50",
   "metadata": {},
   "outputs": [
    {
     "data": {
      "text/html": [
       "<div>\n",
       "<style scoped>\n",
       "    .dataframe tbody tr th:only-of-type {\n",
       "        vertical-align: middle;\n",
       "    }\n",
       "\n",
       "    .dataframe tbody tr th {\n",
       "        vertical-align: top;\n",
       "    }\n",
       "\n",
       "    .dataframe thead th {\n",
       "        text-align: right;\n",
       "    }\n",
       "</style>\n",
       "<table border=\"1\" class=\"dataframe\">\n",
       "  <thead>\n",
       "    <tr style=\"text-align: right;\">\n",
       "      <th></th>\n",
       "      <th>CustomerParent</th>\n",
       "      <th>CustomerId</th>\n",
       "      <th>CustomerName</th>\n",
       "    </tr>\n",
       "  </thead>\n",
       "  <tbody>\n",
       "    <tr>\n",
       "      <th>0</th>\n",
       "      <td>1</td>\n",
       "      <td>[1, 2, 3]</td>\n",
       "      <td>[DHL, DHL International GmbH , DHL-Post]</td>\n",
       "    </tr>\n",
       "    <tr>\n",
       "      <th>1</th>\n",
       "      <td>4</td>\n",
       "      <td>[4, 5, 6]</td>\n",
       "      <td>[FEDEX, fedex, FedEx]</td>\n",
       "    </tr>\n",
       "    <tr>\n",
       "      <th>2</th>\n",
       "      <td>8</td>\n",
       "      <td>[8, 9, 7]</td>\n",
       "      <td>[Amazon, Amazon Delivery, Amazon Logistics]</td>\n",
       "    </tr>\n",
       "  </tbody>\n",
       "</table>\n",
       "</div>"
      ],
      "text/plain": [
       "   CustomerParent CustomerId                                 CustomerName\n",
       "0               1  [1, 2, 3]     [DHL, DHL International GmbH , DHL-Post]\n",
       "1               4  [4, 5, 6]                        [FEDEX, fedex, FedEx]\n",
       "2               8  [8, 9, 7]  [Amazon, Amazon Delivery, Amazon Logistics]"
      ]
     },
     "execution_count": 14,
     "metadata": {},
     "output_type": "execute_result"
    }
   ],
   "source": [
    "customer_hierarchy = customers.groupby(['CustomerParent']).agg({\n",
    "                        'CustomerId': lambda x: list(set(x)), \n",
    "                        'CustomerName': lambda x: list(set(x))}).reset_index()\n",
    "\n",
    "customer_hierarchy"
   ]
  },
  {
   "cell_type": "markdown",
   "id": "de1ebed8",
   "metadata": {},
   "source": [
    "### Employee API"
   ]
  },
  {
   "cell_type": "code",
   "execution_count": 15,
   "id": "d9b1d6b5",
   "metadata": {},
   "outputs": [
    {
     "data": {
      "text/html": [
       "<div>\n",
       "<style scoped>\n",
       "    .dataframe tbody tr th:only-of-type {\n",
       "        vertical-align: middle;\n",
       "    }\n",
       "\n",
       "    .dataframe tbody tr th {\n",
       "        vertical-align: top;\n",
       "    }\n",
       "\n",
       "    .dataframe thead th {\n",
       "        text-align: right;\n",
       "    }\n",
       "</style>\n",
       "<table border=\"1\" class=\"dataframe\">\n",
       "  <thead>\n",
       "    <tr style=\"text-align: right;\">\n",
       "      <th></th>\n",
       "      <th>gender</th>\n",
       "      <th>email</th>\n",
       "      <th>phone</th>\n",
       "      <th>cell</th>\n",
       "      <th>nat</th>\n",
       "      <th>name.title</th>\n",
       "      <th>name.first</th>\n",
       "      <th>name.last</th>\n",
       "      <th>location.street.number</th>\n",
       "      <th>location.street.name</th>\n",
       "      <th>...</th>\n",
       "      <th>login.sha256</th>\n",
       "      <th>dob.date</th>\n",
       "      <th>dob.age</th>\n",
       "      <th>registered.date</th>\n",
       "      <th>registered.age</th>\n",
       "      <th>id.name</th>\n",
       "      <th>id.value</th>\n",
       "      <th>picture.large</th>\n",
       "      <th>picture.medium</th>\n",
       "      <th>picture.thumbnail</th>\n",
       "    </tr>\n",
       "  </thead>\n",
       "  <tbody>\n",
       "    <tr>\n",
       "      <th>0</th>\n",
       "      <td>male</td>\n",
       "      <td>ron.ortiz@example.com</td>\n",
       "      <td>016974 34905</td>\n",
       "      <td>07391 543078</td>\n",
       "      <td>GB</td>\n",
       "      <td>Mr</td>\n",
       "      <td>Ron</td>\n",
       "      <td>Ortiz</td>\n",
       "      <td>1673</td>\n",
       "      <td>Stanley Road</td>\n",
       "      <td>...</td>\n",
       "      <td>ea6a72782433a5bbe242d39f4c855b260c60788c36450e...</td>\n",
       "      <td>2000-12-13T13:07:15.761Z</td>\n",
       "      <td>22</td>\n",
       "      <td>2012-02-21T19:42:58.906Z</td>\n",
       "      <td>11</td>\n",
       "      <td>NINO</td>\n",
       "      <td>TA 07 80 89 B</td>\n",
       "      <td>https://randomuser.me/api/portraits/men/23.jpg</td>\n",
       "      <td>https://randomuser.me/api/portraits/med/men/23...</td>\n",
       "      <td>https://randomuser.me/api/portraits/thumb/men/...</td>\n",
       "    </tr>\n",
       "  </tbody>\n",
       "</table>\n",
       "<p>1 rows × 34 columns</p>\n",
       "</div>"
      ],
      "text/plain": [
       "  gender                  email         phone          cell nat name.title  \\\n",
       "0   male  ron.ortiz@example.com  016974 34905  07391 543078  GB         Mr   \n",
       "\n",
       "  name.first name.last  location.street.number location.street.name  ...  \\\n",
       "0        Ron     Ortiz                    1673         Stanley Road  ...   \n",
       "\n",
       "                                        login.sha256  \\\n",
       "0  ea6a72782433a5bbe242d39f4c855b260c60788c36450e...   \n",
       "\n",
       "                   dob.date dob.age           registered.date registered.age  \\\n",
       "0  2000-12-13T13:07:15.761Z      22  2012-02-21T19:42:58.906Z             11   \n",
       "\n",
       "  id.name       id.value                                   picture.large  \\\n",
       "0    NINO  TA 07 80 89 B  https://randomuser.me/api/portraits/men/23.jpg   \n",
       "\n",
       "                                      picture.medium  \\\n",
       "0  https://randomuser.me/api/portraits/med/men/23...   \n",
       "\n",
       "                                   picture.thumbnail  \n",
       "0  https://randomuser.me/api/portraits/thumb/men/...  \n",
       "\n",
       "[1 rows x 34 columns]"
      ]
     },
     "execution_count": 15,
     "metadata": {},
     "output_type": "execute_result"
    }
   ],
   "source": [
    "# API config\n",
    "url = \"https://randomuser.me/api/\"\n",
    "params = {\"seed\": \"SeedText\"}\n",
    "\n",
    "# Make the API call\n",
    "response = requests.get(url, params=params)\n",
    "\n",
    "# Convert the received data (dictionary) into a data frame\n",
    "employee = pd.json_normalize(response.json()[\"results\"])\n",
    "employee.head(10)"
   ]
  },
  {
   "cell_type": "markdown",
   "id": "b8cd0b2e",
   "metadata": {},
   "source": [
    "> **Observations:** I find it strange that there's only one row in this table, but this could be due to the fact that this is an excercise and not real data. \n",
    "\n",
    "I want to make sure that the request is being done properly, so I check that there's really one value by repeating the request several times:"
   ]
  },
  {
   "cell_type": "code",
   "execution_count": 16,
   "id": "1f184eb6",
   "metadata": {},
   "outputs": [
    {
     "name": "stdout",
     "output_type": "stream",
     "text": [
      "  gender                  email         phone          cell nat name.title  \\\n",
      "0   male  ron.ortiz@example.com  016974 34905  07391 543078  GB         Mr   \n",
      "1   male  ron.ortiz@example.com  016974 34905  07391 543078  GB         Mr   \n",
      "2   male  ron.ortiz@example.com  016974 34905  07391 543078  GB         Mr   \n",
      "3   male  ron.ortiz@example.com  016974 34905  07391 543078  GB         Mr   \n",
      "4   male  ron.ortiz@example.com  016974 34905  07391 543078  GB         Mr   \n",
      "\n",
      "  name.first name.last  location.street.number location.street.name  ...  \\\n",
      "0        Ron     Ortiz                    1673         Stanley Road  ...   \n",
      "1        Ron     Ortiz                    1673         Stanley Road  ...   \n",
      "2        Ron     Ortiz                    1673         Stanley Road  ...   \n",
      "3        Ron     Ortiz                    1673         Stanley Road  ...   \n",
      "4        Ron     Ortiz                    1673         Stanley Road  ...   \n",
      "\n",
      "                                        login.sha256  \\\n",
      "0  ea6a72782433a5bbe242d39f4c855b260c60788c36450e...   \n",
      "1  ea6a72782433a5bbe242d39f4c855b260c60788c36450e...   \n",
      "2  ea6a72782433a5bbe242d39f4c855b260c60788c36450e...   \n",
      "3  ea6a72782433a5bbe242d39f4c855b260c60788c36450e...   \n",
      "4  ea6a72782433a5bbe242d39f4c855b260c60788c36450e...   \n",
      "\n",
      "                   dob.date dob.age           registered.date registered.age  \\\n",
      "0  2000-12-13T13:07:15.761Z      22  2012-02-21T19:42:58.906Z             11   \n",
      "1  2000-12-13T13:07:15.761Z      22  2012-02-21T19:42:58.906Z             11   \n",
      "2  2000-12-13T13:07:15.761Z      22  2012-02-21T19:42:58.906Z             11   \n",
      "3  2000-12-13T13:07:15.761Z      22  2012-02-21T19:42:58.906Z             11   \n",
      "4  2000-12-13T13:07:15.761Z      22  2012-02-21T19:42:58.906Z             11   \n",
      "\n",
      "  id.name       id.value                                   picture.large  \\\n",
      "0    NINO  TA 07 80 89 B  https://randomuser.me/api/portraits/men/23.jpg   \n",
      "1    NINO  TA 07 80 89 B  https://randomuser.me/api/portraits/men/23.jpg   \n",
      "2    NINO  TA 07 80 89 B  https://randomuser.me/api/portraits/men/23.jpg   \n",
      "3    NINO  TA 07 80 89 B  https://randomuser.me/api/portraits/men/23.jpg   \n",
      "4    NINO  TA 07 80 89 B  https://randomuser.me/api/portraits/men/23.jpg   \n",
      "\n",
      "                                      picture.medium  \\\n",
      "0  https://randomuser.me/api/portraits/med/men/23...   \n",
      "1  https://randomuser.me/api/portraits/med/men/23...   \n",
      "2  https://randomuser.me/api/portraits/med/men/23...   \n",
      "3  https://randomuser.me/api/portraits/med/men/23...   \n",
      "4  https://randomuser.me/api/portraits/med/men/23...   \n",
      "\n",
      "                                   picture.thumbnail  \n",
      "0  https://randomuser.me/api/portraits/thumb/men/...  \n",
      "1  https://randomuser.me/api/portraits/thumb/men/...  \n",
      "2  https://randomuser.me/api/portraits/thumb/men/...  \n",
      "3  https://randomuser.me/api/portraits/thumb/men/...  \n",
      "4  https://randomuser.me/api/portraits/thumb/men/...  \n",
      "\n",
      "[5 rows x 34 columns]\n"
     ]
    }
   ],
   "source": [
    "# making multiple API calls and concatenating the results into a single DataFrame\n",
    "dfs = []\n",
    "for i in range(5):\n",
    "    response = requests.get(url, params=params)\n",
    "    data = response.json()[\"results\"]\n",
    "    df = pd.json_normalize(data)\n",
    "    dfs.append(df)\n",
    "df = pd.concat(dfs, ignore_index=True)\n",
    "\n",
    "# view results\n",
    "print(df)"
   ]
  },
  {
   "cell_type": "markdown",
   "id": "58d31b69",
   "metadata": {},
   "source": [
    "I'm going to check if the value of the `id.value` column matches any of the ids in our `sales` table"
   ]
  },
  {
   "cell_type": "code",
   "execution_count": 17,
   "id": "27816c7d",
   "metadata": {},
   "outputs": [
    {
     "name": "stdout",
     "output_type": "stream",
     "text": [
      "0    False\n",
      "Name: id.value, dtype: bool\n",
      "0    False\n",
      "Name: id.value, dtype: bool\n"
     ]
    }
   ],
   "source": [
    "# checking as is\n",
    "print(employee['id.value'].isin(sales['UserId']))\n",
    "\n",
    "# checking without the spaces\n",
    "employee_test = employee\n",
    "employee_test['id.value'] = employee['id.value'].str.replace(' ', '')\n",
    "print(employee_test['id.value'].isin(sales['UserId']))"
   ]
  },
  {
   "cell_type": "markdown",
   "id": "c4509dfe",
   "metadata": {},
   "source": [
    ">**Observation:** I assume there is no match because we're using this API as an excercise, so I will not merge this information with our table."
   ]
  },
  {
   "cell_type": "markdown",
   "id": "aa28b111",
   "metadata": {},
   "source": [
    "### Branches"
   ]
  },
  {
   "cell_type": "markdown",
   "id": "f31e386f",
   "metadata": {},
   "source": [
    "For the sake of this excercise and with goal of obtaining a fully merged tablen and given how small the table is, I will manually create the Branch table based on the information provided by IT.\n",
    "\n",
    "However, given this this table should be dynamic, this is not the best method. I will showcase a different method on a different platform."
   ]
  },
  {
   "cell_type": "code",
   "execution_count": 18,
   "id": "5d05469a",
   "metadata": {},
   "outputs": [
    {
     "data": {
      "text/html": [
       "<div>\n",
       "<style scoped>\n",
       "    .dataframe tbody tr th:only-of-type {\n",
       "        vertical-align: middle;\n",
       "    }\n",
       "\n",
       "    .dataframe tbody tr th {\n",
       "        vertical-align: top;\n",
       "    }\n",
       "\n",
       "    .dataframe thead th {\n",
       "        text-align: right;\n",
       "    }\n",
       "</style>\n",
       "<table border=\"1\" class=\"dataframe\">\n",
       "  <thead>\n",
       "    <tr style=\"text-align: right;\">\n",
       "      <th></th>\n",
       "      <th>BranchId</th>\n",
       "      <th>BranchName</th>\n",
       "      <th>Country</th>\n",
       "      <th>Region</th>\n",
       "    </tr>\n",
       "  </thead>\n",
       "  <tbody>\n",
       "    <tr>\n",
       "      <th>0</th>\n",
       "      <td>1</td>\n",
       "      <td>Amsterdam</td>\n",
       "      <td>Netherlands</td>\n",
       "      <td>Benelux</td>\n",
       "    </tr>\n",
       "    <tr>\n",
       "      <th>1</th>\n",
       "      <td>2</td>\n",
       "      <td>Rotterdam</td>\n",
       "      <td>Netherlands</td>\n",
       "      <td>Benelux</td>\n",
       "    </tr>\n",
       "    <tr>\n",
       "      <th>2</th>\n",
       "      <td>3</td>\n",
       "      <td>Brugge</td>\n",
       "      <td>Belgium</td>\n",
       "      <td>Benelux</td>\n",
       "    </tr>\n",
       "    <tr>\n",
       "      <th>3</th>\n",
       "      <td>4</td>\n",
       "      <td>Berlin</td>\n",
       "      <td>Germany</td>\n",
       "      <td>Central</td>\n",
       "    </tr>\n",
       "    <tr>\n",
       "      <th>4</th>\n",
       "      <td>5</td>\n",
       "      <td>Koln</td>\n",
       "      <td>Germany</td>\n",
       "      <td>Central</td>\n",
       "    </tr>\n",
       "    <tr>\n",
       "      <th>5</th>\n",
       "      <td>6</td>\n",
       "      <td>Vienna</td>\n",
       "      <td>Austria</td>\n",
       "      <td>Central</td>\n",
       "    </tr>\n",
       "  </tbody>\n",
       "</table>\n",
       "</div>"
      ],
      "text/plain": [
       "   BranchId BranchName      Country   Region\n",
       "0         1  Amsterdam  Netherlands  Benelux\n",
       "1         2  Rotterdam  Netherlands  Benelux\n",
       "2         3     Brugge      Belgium  Benelux\n",
       "3         4     Berlin      Germany  Central\n",
       "4         5       Koln      Germany  Central\n",
       "5         6     Vienna      Austria  Central"
      ]
     },
     "execution_count": 18,
     "metadata": {},
     "output_type": "execute_result"
    }
   ],
   "source": [
    "branches = pd.DataFrame({\n",
    "    'BranchId': [1, 2, 3, 4, 5, 6],\n",
    "    'BranchName': ['Amsterdam', 'Rotterdam', 'Brugge', 'Berlin', 'Koln', 'Vienna'],\n",
    "    'Country': ['Netherlands', 'Netherlands', 'Belgium', 'Germany', 'Germany', 'Austria'],\n",
    "    'Region': ['Benelux', 'Benelux', 'Benelux','Central','Central','Central']\n",
    "})\n",
    "\n",
    "branches"
   ]
  },
  {
   "cell_type": "markdown",
   "id": "b05e1511",
   "metadata": {},
   "source": [
    "### Merging tables"
   ]
  },
  {
   "cell_type": "code",
   "execution_count": 19,
   "id": "e845c352",
   "metadata": {
    "scrolled": true
   },
   "outputs": [
    {
     "data": {
      "text/html": [
       "<div>\n",
       "<style scoped>\n",
       "    .dataframe tbody tr th:only-of-type {\n",
       "        vertical-align: middle;\n",
       "    }\n",
       "\n",
       "    .dataframe tbody tr th {\n",
       "        vertical-align: top;\n",
       "    }\n",
       "\n",
       "    .dataframe thead th {\n",
       "        text-align: right;\n",
       "    }\n",
       "</style>\n",
       "<table border=\"1\" class=\"dataframe\">\n",
       "  <thead>\n",
       "    <tr style=\"text-align: right;\">\n",
       "      <th></th>\n",
       "      <th>Source</th>\n",
       "      <th>BranchId</th>\n",
       "      <th>CustomerId</th>\n",
       "      <th>UnItNr</th>\n",
       "      <th>CreateDate</th>\n",
       "      <th>UpdateDate</th>\n",
       "      <th>UserId</th>\n",
       "      <th>UserField</th>\n",
       "      <th>Amount</th>\n",
       "      <th>CustomerName</th>\n",
       "      <th>CustomerParent</th>\n",
       "      <th>BranchName</th>\n",
       "      <th>Country</th>\n",
       "      <th>Region</th>\n",
       "    </tr>\n",
       "  </thead>\n",
       "  <tbody>\n",
       "    <tr>\n",
       "      <th>0</th>\n",
       "      <td>Asset Application</td>\n",
       "      <td>5</td>\n",
       "      <td>6</td>\n",
       "      <td>1466</td>\n",
       "      <td>2021-03-09 10:50:00</td>\n",
       "      <td>2021-03-09 13:14:00</td>\n",
       "      <td>A87F7113</td>\n",
       "      <td>third party contract</td>\n",
       "      <td>443.23</td>\n",
       "      <td>FEDEX</td>\n",
       "      <td>4</td>\n",
       "      <td>Koln</td>\n",
       "      <td>Germany</td>\n",
       "      <td>Central</td>\n",
       "    </tr>\n",
       "    <tr>\n",
       "      <th>1</th>\n",
       "      <td>External Vendor</td>\n",
       "      <td>5</td>\n",
       "      <td>6</td>\n",
       "      <td>465</td>\n",
       "      <td>2021-03-09 11:46:00</td>\n",
       "      <td>NaT</td>\n",
       "      <td>FB167849</td>\n",
       "      <td>long term lease</td>\n",
       "      <td>261.14</td>\n",
       "      <td>FEDEX</td>\n",
       "      <td>4</td>\n",
       "      <td>Koln</td>\n",
       "      <td>Germany</td>\n",
       "      <td>Central</td>\n",
       "    </tr>\n",
       "    <tr>\n",
       "      <th>2</th>\n",
       "      <td>Asset Application</td>\n",
       "      <td>5</td>\n",
       "      <td>6</td>\n",
       "      <td>1014</td>\n",
       "      <td>2021-03-09 12:53:00</td>\n",
       "      <td>NaT</td>\n",
       "      <td>744D4C52</td>\n",
       "      <td>third party contract</td>\n",
       "      <td>344.66</td>\n",
       "      <td>FEDEX</td>\n",
       "      <td>4</td>\n",
       "      <td>Koln</td>\n",
       "      <td>Germany</td>\n",
       "      <td>Central</td>\n",
       "    </tr>\n",
       "    <tr>\n",
       "      <th>3</th>\n",
       "      <td>Asset Application</td>\n",
       "      <td>5</td>\n",
       "      <td>6</td>\n",
       "      <td>707</td>\n",
       "      <td>2021-03-09 13:27:00</td>\n",
       "      <td>NaT</td>\n",
       "      <td>C2BA5FC7</td>\n",
       "      <td>long term lease</td>\n",
       "      <td>280.05</td>\n",
       "      <td>FEDEX</td>\n",
       "      <td>4</td>\n",
       "      <td>Koln</td>\n",
       "      <td>Germany</td>\n",
       "      <td>Central</td>\n",
       "    </tr>\n",
       "    <tr>\n",
       "      <th>4</th>\n",
       "      <td>INV_5036</td>\n",
       "      <td>5</td>\n",
       "      <td>6</td>\n",
       "      <td>808</td>\n",
       "      <td>2021-03-09 15:37:00</td>\n",
       "      <td>2021-09-23 15:37:00</td>\n",
       "      <td>DCAF192F</td>\n",
       "      <td>long term lease</td>\n",
       "      <td>472.28</td>\n",
       "      <td>FEDEX</td>\n",
       "      <td>4</td>\n",
       "      <td>Koln</td>\n",
       "      <td>Germany</td>\n",
       "      <td>Central</td>\n",
       "    </tr>\n",
       "  </tbody>\n",
       "</table>\n",
       "</div>"
      ],
      "text/plain": [
       "              Source  BranchId  CustomerId  UnItNr          CreateDate  \\\n",
       "0  Asset Application         5           6    1466 2021-03-09 10:50:00   \n",
       "1    External Vendor         5           6     465 2021-03-09 11:46:00   \n",
       "2  Asset Application         5           6    1014 2021-03-09 12:53:00   \n",
       "3  Asset Application         5           6     707 2021-03-09 13:27:00   \n",
       "4           INV_5036         5           6     808 2021-03-09 15:37:00   \n",
       "\n",
       "           UpdateDate    UserId             UserField  Amount CustomerName  \\\n",
       "0 2021-03-09 13:14:00  A87F7113  third party contract  443.23        FEDEX   \n",
       "1                 NaT  FB167849       long term lease  261.14        FEDEX   \n",
       "2                 NaT  744D4C52  third party contract  344.66        FEDEX   \n",
       "3                 NaT  C2BA5FC7       long term lease  280.05        FEDEX   \n",
       "4 2021-09-23 15:37:00  DCAF192F       long term lease  472.28        FEDEX   \n",
       "\n",
       "   CustomerParent BranchName  Country   Region  \n",
       "0               4       Koln  Germany  Central  \n",
       "1               4       Koln  Germany  Central  \n",
       "2               4       Koln  Germany  Central  \n",
       "3               4       Koln  Germany  Central  \n",
       "4               4       Koln  Germany  Central  "
      ]
     },
     "execution_count": 19,
     "metadata": {},
     "output_type": "execute_result"
    }
   ],
   "source": [
    "# merging the sales and customers table\n",
    "sales_customers = pd.merge(sales, customers, on='CustomerId')\n",
    "\n",
    "# adding the branches table\n",
    "sales_customers_branches = pd.merge(sales_customers, branches, on='BranchId')\n",
    "sales_customers_branches.head()"
   ]
  },
  {
   "cell_type": "markdown",
   "id": "2e7c6a76",
   "metadata": {},
   "source": [
    "### Export\n"
   ]
  },
  {
   "cell_type": "code",
   "execution_count": 22,
   "id": "753aa585",
   "metadata": {},
   "outputs": [],
   "source": [
    "# per product\n",
    "group_product = sales_customers_branches.groupby('UnItNr')['Amount'].sum().reset_index()\n",
    "\n",
    "# per location\n",
    "group_location = sales_customers_branches.groupby('Country')['Amount'].sum().reset_index()\n",
    "\n",
    "# per customer\n",
    "group_customer = sales_customers_branches.groupby('CustomerId')['Amount'].sum().reset_index()\n",
    "\n",
    "# per user\n",
    "group_user = sales_customers_branches.groupby('UserId')['Amount'].sum().reset_index()\n",
    "\n",
    "# export data to excel file in different sheets\n",
    "writer = pd.ExcelWriter('result_data.xlsx')\n",
    "\n",
    "sales_customers_branches.to_excel(writer, sheet_name='all', index=False)\n",
    "group_location.to_excel(writer, sheet_name='location', index=False)\n",
    "group_product.to_excel(writer, sheet_name='product', index=False)\n",
    "group_customer.to_excel(writer, sheet_name='customer', index=False)\n",
    "group_user.to_excel(writer, sheet_name='user', index=False)\n",
    "\n",
    "writer.save()"
   ]
  },
  {
   "cell_type": "markdown",
   "id": "30cae773",
   "metadata": {},
   "source": [
    "Now we can access the data and open it as an excel file or on Power BI which I will showcase in the presentation.\n"
   ]
  },
  {
   "cell_type": "markdown",
   "id": "f3261773",
   "metadata": {},
   "source": [
    "### Conclusion\n",
    "\n",
    "Throughout this project, a variety of data sources were utilized and processed using Python to clean and transform the data. The resulting data was then merged into a single table and loaded into Power BI to create a dashboard featuring clear and concise data visualizations. This process allowed for more efficient analysis and decision-making based on the provided data. While there is always room for improvement, this project highlights the benefits of using Python and Power BI to transform and analyze complex datasets."
   ]
  }
 ],
 "metadata": {
  "kernelspec": {
   "display_name": "Python 3 (ipykernel)",
   "language": "python",
   "name": "python3"
  },
  "language_info": {
   "codemirror_mode": {
    "name": "ipython",
    "version": 3
   },
   "file_extension": ".py",
   "mimetype": "text/x-python",
   "name": "python",
   "nbconvert_exporter": "python",
   "pygments_lexer": "ipython3",
   "version": "3.9.13"
  }
 },
 "nbformat": 4,
 "nbformat_minor": 5
}
